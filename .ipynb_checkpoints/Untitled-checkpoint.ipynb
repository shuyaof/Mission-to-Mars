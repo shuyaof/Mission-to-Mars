{
 "cells": [
  {
   "cell_type": "code",
   "execution_count": 1,
   "metadata": {},
   "outputs": [],
   "source": [
    "# Import Splinter, BeautifulSoup, and Pandas\n",
    "from splinter import Browser\n",
    "from bs4 import BeautifulSoup as soup\n",
    "import pandas as pd\n",
    "from webdriver_manager.chrome import ChromeDriverManager\n"
   ]
  },
  {
   "cell_type": "code",
   "execution_count": 2,
   "metadata": {},
   "outputs": [],
   "source": [
    "data = {}\n",
    "\n",
    "def scrape_all():\n",
    "\n",
    "    # Set the executable path and initialize Splinter\n",
    "    executable_path = {'executable_path': ChromeDriverManager().install()}\n",
    "    browser = Browser('chrome', **executable_path)\n",
    "    news_title, news_paragraph = mars_news(browser)\n",
    "\n",
    "    data = {\n",
    "        \"news_title\": news_title,\n",
    "        \"news_paragraph\": news_paragraph,\n",
    "        \"featured_image\": featured_image(browser),\n",
    "        \"facts\": mars_facts(),\n",
    "        \"hemispheres\": hemispheres(browser),\n",
    "        \"last_modified\": dt.datetime.now()\n",
    "    }\n",
    "    # 5. Quit the browser\n",
    "    browser.quit()\n",
    "    return data"
   ]
  },
  {
   "cell_type": "code",
   "execution_count": 9,
   "metadata": {},
   "outputs": [],
   "source": [
    "def mars_news(browser):   \n",
    "    ### Visit the NASA Mars News Site\n",
    "    # Visit the mars nasa news site\n",
    "    url = 'https://data-class-mars.s3.amazonaws.com/Mars/index.html'\n",
    "    browser.visit(url)\n",
    "\n",
    "    # Optional delay for loading the page\n",
    "    browser.is_element_present_by_css('div.list_text', wait_time=1)\n",
    "    # Convert the browser html to a soup object and then quit the browser\n",
    "    html = browser.html\n",
    "    news_soup = soup(html, 'html.parser')\n",
    "    slide_elem = news_soup.select_one('div.list_text')\n",
    "    slide_elem.find('div', class_='content_title')\n",
    "    # Use the parent element to find the first a tag and save it as `news_title`\n",
    "    news_title = slide_elem.find('div', class_='content_title').get_text()\n",
    "   \n",
    "    # Use the parent element to find the paragraph text\n",
    "    news_p = slide_elem.find('div', class_='article_teaser_body').get_text()\n",
    "    return news_title,news_p\n"
   ]
  },
  {
   "cell_type": "code",
   "execution_count": 5,
   "metadata": {},
   "outputs": [],
   "source": [
    "def featured_image(browser):\n",
    "    ### JPL Space Images Featured Image\n",
    "    # Visit URL\n",
    "    url = 'https://data-class-jpl-space.s3.amazonaws.com/JPL_Space/index.html'\n",
    "    browser.visit(url)\n",
    "    # Find and click the full image button\n",
    "    full_image_elem = browser.find_by_tag('button')[1]\n",
    "    full_image_elem.click()\n",
    "    # Parse the resulting html with soup\n",
    "    html = browser.html\n",
    "    img_soup = soup(html, 'html.parser')\n",
    "    \n",
    "    # find the relative image url\n",
    "    img_url_rel = img_soup.find('img', class_='fancybox-image').get('src')\n",
    "    \n",
    "    # Use the base url to create an absolute url\n",
    "    img_url = f'https://data-class-jpl-space.s3.amazonaws.com/JPL_Space/{img_url_rel}'\n",
    "    return img_url\n"
   ]
  },
  {
   "cell_type": "code",
   "execution_count": 6,
   "metadata": {},
   "outputs": [],
   "source": [
    "def mars_facts():    \n",
    "### Mars Facts\n",
    "    df = pd.read_html('https://data-class-mars-facts.s3.amazonaws.com/Mars_Facts/index.html')[0]\n",
    "    df.columns=['Description', 'Mars', 'Earth']\n",
    "    df.set_index('Description', inplace=True)\n",
    "    return df.to_html(classes=\"table table-striped\")\n",
    "\n",
    "# D1: Scrape High-Resolution Mars’ Hemisphere Images and Titles\n",
    "### Hemispheres\n",
    "# Set the executable path and initialize Splinter\n",
    "def hemispheres(browser):\n",
    "# 2. Create a list to hold the images and titles.\n",
    "    hemisphere_image_urls = []\n",
    "    links = browser.find_by_css('a.product-item img')\n",
    "\n",
    "    # 4. Print the list that holds the dictionary of each image url and title.\n",
    "    for i in range(len(links)):\n",
    "        browser.find_by_css('a.product-item img')[i].click()\n",
    "        a_link_called_Sample = browser.links.find_by_text('Sample').first\n",
    "        img_url = a_link_called_Sample['href']\n",
    "        title_text = browser.find_by_css('h2.title').text\n",
    "        hemisphere_image_urls.append(hemisphere)\n",
    "        # print(f\"{title_text}\\n{img_url}\\n\")\n",
    "        browser.back()\n",
    "        return hemisphere_image_urls"
   ]
  },
  {
   "cell_type": "code",
   "execution_count": 10,
   "metadata": {},
   "outputs": [
    {
     "ename": "NameError",
     "evalue": "name 'news_title' is not defined",
     "output_type": "error",
     "traceback": [
      "\u001b[1;31m---------------------------------------------------------------------------\u001b[0m",
      "\u001b[1;31mNameError\u001b[0m                                 Traceback (most recent call last)",
      "\u001b[1;32m<ipython-input-10-a22766e607c4>\u001b[0m in \u001b[0;36m<module>\u001b[1;34m\u001b[0m\n\u001b[1;32m----> 1\u001b[1;33m \u001b[0mnews_title\u001b[0m\u001b[1;33m\u001b[0m\u001b[1;33m\u001b[0m\u001b[0m\n\u001b[0m",
      "\u001b[1;31mNameError\u001b[0m: name 'news_title' is not defined"
     ]
    }
   ],
   "source": [
    "news_title"
   ]
  },
  {
   "cell_type": "code",
   "execution_count": null,
   "metadata": {},
   "outputs": [],
   "source": []
  }
 ],
 "metadata": {
  "kernelspec": {
   "display_name": "Python 3",
   "language": "python",
   "name": "python3"
  },
  "language_info": {
   "codemirror_mode": {
    "name": "ipython",
    "version": 3
   },
   "file_extension": ".py",
   "mimetype": "text/x-python",
   "name": "python",
   "nbconvert_exporter": "python",
   "pygments_lexer": "ipython3",
   "version": "3.8.5"
  }
 },
 "nbformat": 4,
 "nbformat_minor": 4
}
